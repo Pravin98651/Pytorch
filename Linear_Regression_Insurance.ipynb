{
  "nbformat": 4,
  "nbformat_minor": 0,
  "metadata": {
    "colab": {
      "provenance": [],
      "gpuType": "T4"
    },
    "kernelspec": {
      "name": "python3",
      "display_name": "Python 3"
    },
    "language_info": {
      "name": "python"
    },
    "accelerator": "GPU"
  },
  "cells": [
    {
      "cell_type": "code",
      "execution_count": null,
      "metadata": {
        "id": "0_fNFw5Vd5vS"
      },
      "outputs": [],
      "source": [
        "# 1. Data gathering\n",
        "# 2. Data preprocessing\n",
        "# 3. Feature engineering\n",
        "# 4. Model training\n",
        "# 5. Testing"
      ]
    },
    {
      "cell_type": "code",
      "source": [
        "## Dataset used\n",
        "# https://www.kaggle.com/datasets/mirichoi0218/insurance"
      ],
      "metadata": {
        "id": "iAK279Fsm25i"
      },
      "execution_count": null,
      "outputs": []
    },
    {
      "cell_type": "code",
      "source": [
        "!pip install kaggle"
      ],
      "metadata": {
        "colab": {
          "base_uri": "https://localhost:8080/"
        },
        "id": "nzEca8-YnKmJ",
        "outputId": "d5b1f48c-ff67-40ba-beb3-efd315ba761f"
      },
      "execution_count": null,
      "outputs": [
        {
          "output_type": "stream",
          "name": "stdout",
          "text": [
            "Requirement already satisfied: kaggle in /usr/local/lib/python3.11/dist-packages (1.7.4.5)\n",
            "Requirement already satisfied: bleach in /usr/local/lib/python3.11/dist-packages (from kaggle) (6.2.0)\n",
            "Requirement already satisfied: certifi>=14.05.14 in /usr/local/lib/python3.11/dist-packages (from kaggle) (2025.4.26)\n",
            "Requirement already satisfied: charset-normalizer in /usr/local/lib/python3.11/dist-packages (from kaggle) (3.4.2)\n",
            "Requirement already satisfied: idna in /usr/local/lib/python3.11/dist-packages (from kaggle) (3.10)\n",
            "Requirement already satisfied: protobuf in /usr/local/lib/python3.11/dist-packages (from kaggle) (5.29.4)\n",
            "Requirement already satisfied: python-dateutil>=2.5.3 in /usr/local/lib/python3.11/dist-packages (from kaggle) (2.9.0.post0)\n",
            "Requirement already satisfied: python-slugify in /usr/local/lib/python3.11/dist-packages (from kaggle) (8.0.4)\n",
            "Requirement already satisfied: requests in /usr/local/lib/python3.11/dist-packages (from kaggle) (2.32.3)\n",
            "Requirement already satisfied: setuptools>=21.0.0 in /usr/local/lib/python3.11/dist-packages (from kaggle) (75.2.0)\n",
            "Requirement already satisfied: six>=1.10 in /usr/local/lib/python3.11/dist-packages (from kaggle) (1.17.0)\n",
            "Requirement already satisfied: text-unidecode in /usr/local/lib/python3.11/dist-packages (from kaggle) (1.3)\n",
            "Requirement already satisfied: tqdm in /usr/local/lib/python3.11/dist-packages (from kaggle) (4.67.1)\n",
            "Requirement already satisfied: urllib3>=1.15.1 in /usr/local/lib/python3.11/dist-packages (from kaggle) (2.4.0)\n",
            "Requirement already satisfied: webencodings in /usr/local/lib/python3.11/dist-packages (from kaggle) (0.5.1)\n"
          ]
        }
      ]
    },
    {
      "cell_type": "code",
      "source": [
        "import kagglehub\n",
        "\n",
        "# Download latest version\n",
        "path = kagglehub.dataset_download(\"mirichoi0218/insurance\")\n",
        "\n",
        "print(f\"Path of dataset files : {path}\")"
      ],
      "metadata": {
        "colab": {
          "base_uri": "https://localhost:8080/"
        },
        "id": "TNLJruWGnMT5",
        "outputId": "221d4dd3-433d-41bd-c7cd-1f3c166055d9"
      },
      "execution_count": null,
      "outputs": [
        {
          "output_type": "stream",
          "name": "stdout",
          "text": [
            "Downloading from https://www.kaggle.com/api/v1/datasets/download/mirichoi0218/insurance?dataset_version_number=1...\n"
          ]
        },
        {
          "output_type": "stream",
          "name": "stderr",
          "text": [
            "100%|██████████| 16.0k/16.0k [00:00<00:00, 3.46MB/s]"
          ]
        },
        {
          "output_type": "stream",
          "name": "stdout",
          "text": [
            "Extracting files...\n",
            "Path of dataset files : /root/.cache/kagglehub/datasets/mirichoi0218/insurance/versions/1\n"
          ]
        },
        {
          "output_type": "stream",
          "name": "stderr",
          "text": [
            "\n"
          ]
        }
      ]
    },
    {
      "cell_type": "code",
      "source": [
        "import os\n",
        "print(os.getcwd())"
      ],
      "metadata": {
        "colab": {
          "base_uri": "https://localhost:8080/"
        },
        "id": "RufK7NLTnNto",
        "outputId": "88d52830-c6b1-4522-c03a-ab16ce07ce7e"
      },
      "execution_count": null,
      "outputs": [
        {
          "output_type": "stream",
          "name": "stdout",
          "text": [
            "/content\n"
          ]
        }
      ]
    },
    {
      "cell_type": "code",
      "source": [
        "import pandas as pd\n"
      ],
      "metadata": {
        "id": "qqvlAgHinP0k"
      },
      "execution_count": null,
      "outputs": []
    },
    {
      "cell_type": "code",
      "source": [
        "os.listdir('/root/.cache/kagglehub/datasets/mirichoi0218/insurance/versions/1')\n"
      ],
      "metadata": {
        "colab": {
          "base_uri": "https://localhost:8080/"
        },
        "id": "z5nQdSjMnRX-",
        "outputId": "68a70f86-bc5e-45f4-d958-86790dd9b7a9"
      },
      "execution_count": null,
      "outputs": [
        {
          "output_type": "execute_result",
          "data": {
            "text/plain": [
              "['insurance.csv']"
            ]
          },
          "metadata": {},
          "execution_count": 7
        }
      ]
    },
    {
      "cell_type": "code",
      "source": [
        "df = pd.read_csv(os.path.join(path, 'insurance.csv'))"
      ],
      "metadata": {
        "id": "Z_dCk6YEnUPD"
      },
      "execution_count": null,
      "outputs": []
    },
    {
      "cell_type": "code",
      "source": [
        "df.head()"
      ],
      "metadata": {
        "colab": {
          "base_uri": "https://localhost:8080/",
          "height": 206
        },
        "id": "Mv6R9P1znYEv",
        "outputId": "c1b9de9a-17da-436f-f309-c90bcf70be3b"
      },
      "execution_count": null,
      "outputs": [
        {
          "output_type": "execute_result",
          "data": {
            "text/plain": [
              "   age     sex     bmi  children smoker     region      charges\n",
              "0   19  female  27.900         0    yes  southwest  16884.92400\n",
              "1   18    male  33.770         1     no  southeast   1725.55230\n",
              "2   28    male  33.000         3     no  southeast   4449.46200\n",
              "3   33    male  22.705         0     no  northwest  21984.47061\n",
              "4   32    male  28.880         0     no  northwest   3866.85520"
            ],
            "text/html": [
              "\n",
              "  <div id=\"df-a0957c20-9f6a-4762-a289-f32cd67c3414\" class=\"colab-df-container\">\n",
              "    <div>\n",
              "<style scoped>\n",
              "    .dataframe tbody tr th:only-of-type {\n",
              "        vertical-align: middle;\n",
              "    }\n",
              "\n",
              "    .dataframe tbody tr th {\n",
              "        vertical-align: top;\n",
              "    }\n",
              "\n",
              "    .dataframe thead th {\n",
              "        text-align: right;\n",
              "    }\n",
              "</style>\n",
              "<table border=\"1\" class=\"dataframe\">\n",
              "  <thead>\n",
              "    <tr style=\"text-align: right;\">\n",
              "      <th></th>\n",
              "      <th>age</th>\n",
              "      <th>sex</th>\n",
              "      <th>bmi</th>\n",
              "      <th>children</th>\n",
              "      <th>smoker</th>\n",
              "      <th>region</th>\n",
              "      <th>charges</th>\n",
              "    </tr>\n",
              "  </thead>\n",
              "  <tbody>\n",
              "    <tr>\n",
              "      <th>0</th>\n",
              "      <td>19</td>\n",
              "      <td>female</td>\n",
              "      <td>27.900</td>\n",
              "      <td>0</td>\n",
              "      <td>yes</td>\n",
              "      <td>southwest</td>\n",
              "      <td>16884.92400</td>\n",
              "    </tr>\n",
              "    <tr>\n",
              "      <th>1</th>\n",
              "      <td>18</td>\n",
              "      <td>male</td>\n",
              "      <td>33.770</td>\n",
              "      <td>1</td>\n",
              "      <td>no</td>\n",
              "      <td>southeast</td>\n",
              "      <td>1725.55230</td>\n",
              "    </tr>\n",
              "    <tr>\n",
              "      <th>2</th>\n",
              "      <td>28</td>\n",
              "      <td>male</td>\n",
              "      <td>33.000</td>\n",
              "      <td>3</td>\n",
              "      <td>no</td>\n",
              "      <td>southeast</td>\n",
              "      <td>4449.46200</td>\n",
              "    </tr>\n",
              "    <tr>\n",
              "      <th>3</th>\n",
              "      <td>33</td>\n",
              "      <td>male</td>\n",
              "      <td>22.705</td>\n",
              "      <td>0</td>\n",
              "      <td>no</td>\n",
              "      <td>northwest</td>\n",
              "      <td>21984.47061</td>\n",
              "    </tr>\n",
              "    <tr>\n",
              "      <th>4</th>\n",
              "      <td>32</td>\n",
              "      <td>male</td>\n",
              "      <td>28.880</td>\n",
              "      <td>0</td>\n",
              "      <td>no</td>\n",
              "      <td>northwest</td>\n",
              "      <td>3866.85520</td>\n",
              "    </tr>\n",
              "  </tbody>\n",
              "</table>\n",
              "</div>\n",
              "    <div class=\"colab-df-buttons\">\n",
              "\n",
              "  <div class=\"colab-df-container\">\n",
              "    <button class=\"colab-df-convert\" onclick=\"convertToInteractive('df-a0957c20-9f6a-4762-a289-f32cd67c3414')\"\n",
              "            title=\"Convert this dataframe to an interactive table.\"\n",
              "            style=\"display:none;\">\n",
              "\n",
              "  <svg xmlns=\"http://www.w3.org/2000/svg\" height=\"24px\" viewBox=\"0 -960 960 960\">\n",
              "    <path d=\"M120-120v-720h720v720H120Zm60-500h600v-160H180v160Zm220 220h160v-160H400v160Zm0 220h160v-160H400v160ZM180-400h160v-160H180v160Zm440 0h160v-160H620v160ZM180-180h160v-160H180v160Zm440 0h160v-160H620v160Z\"/>\n",
              "  </svg>\n",
              "    </button>\n",
              "\n",
              "  <style>\n",
              "    .colab-df-container {\n",
              "      display:flex;\n",
              "      gap: 12px;\n",
              "    }\n",
              "\n",
              "    .colab-df-convert {\n",
              "      background-color: #E8F0FE;\n",
              "      border: none;\n",
              "      border-radius: 50%;\n",
              "      cursor: pointer;\n",
              "      display: none;\n",
              "      fill: #1967D2;\n",
              "      height: 32px;\n",
              "      padding: 0 0 0 0;\n",
              "      width: 32px;\n",
              "    }\n",
              "\n",
              "    .colab-df-convert:hover {\n",
              "      background-color: #E2EBFA;\n",
              "      box-shadow: 0px 1px 2px rgba(60, 64, 67, 0.3), 0px 1px 3px 1px rgba(60, 64, 67, 0.15);\n",
              "      fill: #174EA6;\n",
              "    }\n",
              "\n",
              "    .colab-df-buttons div {\n",
              "      margin-bottom: 4px;\n",
              "    }\n",
              "\n",
              "    [theme=dark] .colab-df-convert {\n",
              "      background-color: #3B4455;\n",
              "      fill: #D2E3FC;\n",
              "    }\n",
              "\n",
              "    [theme=dark] .colab-df-convert:hover {\n",
              "      background-color: #434B5C;\n",
              "      box-shadow: 0px 1px 3px 1px rgba(0, 0, 0, 0.15);\n",
              "      filter: drop-shadow(0px 1px 2px rgba(0, 0, 0, 0.3));\n",
              "      fill: #FFFFFF;\n",
              "    }\n",
              "  </style>\n",
              "\n",
              "    <script>\n",
              "      const buttonEl =\n",
              "        document.querySelector('#df-a0957c20-9f6a-4762-a289-f32cd67c3414 button.colab-df-convert');\n",
              "      buttonEl.style.display =\n",
              "        google.colab.kernel.accessAllowed ? 'block' : 'none';\n",
              "\n",
              "      async function convertToInteractive(key) {\n",
              "        const element = document.querySelector('#df-a0957c20-9f6a-4762-a289-f32cd67c3414');\n",
              "        const dataTable =\n",
              "          await google.colab.kernel.invokeFunction('convertToInteractive',\n",
              "                                                    [key], {});\n",
              "        if (!dataTable) return;\n",
              "\n",
              "        const docLinkHtml = 'Like what you see? Visit the ' +\n",
              "          '<a target=\"_blank\" href=https://colab.research.google.com/notebooks/data_table.ipynb>data table notebook</a>'\n",
              "          + ' to learn more about interactive tables.';\n",
              "        element.innerHTML = '';\n",
              "        dataTable['output_type'] = 'display_data';\n",
              "        await google.colab.output.renderOutput(dataTable, element);\n",
              "        const docLink = document.createElement('div');\n",
              "        docLink.innerHTML = docLinkHtml;\n",
              "        element.appendChild(docLink);\n",
              "      }\n",
              "    </script>\n",
              "  </div>\n",
              "\n",
              "\n",
              "    <div id=\"df-b252d2ec-aad6-48a6-b04b-8f554d914d2f\">\n",
              "      <button class=\"colab-df-quickchart\" onclick=\"quickchart('df-b252d2ec-aad6-48a6-b04b-8f554d914d2f')\"\n",
              "                title=\"Suggest charts\"\n",
              "                style=\"display:none;\">\n",
              "\n",
              "<svg xmlns=\"http://www.w3.org/2000/svg\" height=\"24px\"viewBox=\"0 0 24 24\"\n",
              "     width=\"24px\">\n",
              "    <g>\n",
              "        <path d=\"M19 3H5c-1.1 0-2 .9-2 2v14c0 1.1.9 2 2 2h14c1.1 0 2-.9 2-2V5c0-1.1-.9-2-2-2zM9 17H7v-7h2v7zm4 0h-2V7h2v10zm4 0h-2v-4h2v4z\"/>\n",
              "    </g>\n",
              "</svg>\n",
              "      </button>\n",
              "\n",
              "<style>\n",
              "  .colab-df-quickchart {\n",
              "      --bg-color: #E8F0FE;\n",
              "      --fill-color: #1967D2;\n",
              "      --hover-bg-color: #E2EBFA;\n",
              "      --hover-fill-color: #174EA6;\n",
              "      --disabled-fill-color: #AAA;\n",
              "      --disabled-bg-color: #DDD;\n",
              "  }\n",
              "\n",
              "  [theme=dark] .colab-df-quickchart {\n",
              "      --bg-color: #3B4455;\n",
              "      --fill-color: #D2E3FC;\n",
              "      --hover-bg-color: #434B5C;\n",
              "      --hover-fill-color: #FFFFFF;\n",
              "      --disabled-bg-color: #3B4455;\n",
              "      --disabled-fill-color: #666;\n",
              "  }\n",
              "\n",
              "  .colab-df-quickchart {\n",
              "    background-color: var(--bg-color);\n",
              "    border: none;\n",
              "    border-radius: 50%;\n",
              "    cursor: pointer;\n",
              "    display: none;\n",
              "    fill: var(--fill-color);\n",
              "    height: 32px;\n",
              "    padding: 0;\n",
              "    width: 32px;\n",
              "  }\n",
              "\n",
              "  .colab-df-quickchart:hover {\n",
              "    background-color: var(--hover-bg-color);\n",
              "    box-shadow: 0 1px 2px rgba(60, 64, 67, 0.3), 0 1px 3px 1px rgba(60, 64, 67, 0.15);\n",
              "    fill: var(--button-hover-fill-color);\n",
              "  }\n",
              "\n",
              "  .colab-df-quickchart-complete:disabled,\n",
              "  .colab-df-quickchart-complete:disabled:hover {\n",
              "    background-color: var(--disabled-bg-color);\n",
              "    fill: var(--disabled-fill-color);\n",
              "    box-shadow: none;\n",
              "  }\n",
              "\n",
              "  .colab-df-spinner {\n",
              "    border: 2px solid var(--fill-color);\n",
              "    border-color: transparent;\n",
              "    border-bottom-color: var(--fill-color);\n",
              "    animation:\n",
              "      spin 1s steps(1) infinite;\n",
              "  }\n",
              "\n",
              "  @keyframes spin {\n",
              "    0% {\n",
              "      border-color: transparent;\n",
              "      border-bottom-color: var(--fill-color);\n",
              "      border-left-color: var(--fill-color);\n",
              "    }\n",
              "    20% {\n",
              "      border-color: transparent;\n",
              "      border-left-color: var(--fill-color);\n",
              "      border-top-color: var(--fill-color);\n",
              "    }\n",
              "    30% {\n",
              "      border-color: transparent;\n",
              "      border-left-color: var(--fill-color);\n",
              "      border-top-color: var(--fill-color);\n",
              "      border-right-color: var(--fill-color);\n",
              "    }\n",
              "    40% {\n",
              "      border-color: transparent;\n",
              "      border-right-color: var(--fill-color);\n",
              "      border-top-color: var(--fill-color);\n",
              "    }\n",
              "    60% {\n",
              "      border-color: transparent;\n",
              "      border-right-color: var(--fill-color);\n",
              "    }\n",
              "    80% {\n",
              "      border-color: transparent;\n",
              "      border-right-color: var(--fill-color);\n",
              "      border-bottom-color: var(--fill-color);\n",
              "    }\n",
              "    90% {\n",
              "      border-color: transparent;\n",
              "      border-bottom-color: var(--fill-color);\n",
              "    }\n",
              "  }\n",
              "</style>\n",
              "\n",
              "      <script>\n",
              "        async function quickchart(key) {\n",
              "          const quickchartButtonEl =\n",
              "            document.querySelector('#' + key + ' button');\n",
              "          quickchartButtonEl.disabled = true;  // To prevent multiple clicks.\n",
              "          quickchartButtonEl.classList.add('colab-df-spinner');\n",
              "          try {\n",
              "            const charts = await google.colab.kernel.invokeFunction(\n",
              "                'suggestCharts', [key], {});\n",
              "          } catch (error) {\n",
              "            console.error('Error during call to suggestCharts:', error);\n",
              "          }\n",
              "          quickchartButtonEl.classList.remove('colab-df-spinner');\n",
              "          quickchartButtonEl.classList.add('colab-df-quickchart-complete');\n",
              "        }\n",
              "        (() => {\n",
              "          let quickchartButtonEl =\n",
              "            document.querySelector('#df-b252d2ec-aad6-48a6-b04b-8f554d914d2f button');\n",
              "          quickchartButtonEl.style.display =\n",
              "            google.colab.kernel.accessAllowed ? 'block' : 'none';\n",
              "        })();\n",
              "      </script>\n",
              "    </div>\n",
              "\n",
              "    </div>\n",
              "  </div>\n"
            ],
            "application/vnd.google.colaboratory.intrinsic+json": {
              "type": "dataframe",
              "variable_name": "df",
              "summary": "{\n  \"name\": \"df\",\n  \"rows\": 1338,\n  \"fields\": [\n    {\n      \"column\": \"age\",\n      \"properties\": {\n        \"dtype\": \"number\",\n        \"std\": 14,\n        \"min\": 18,\n        \"max\": 64,\n        \"num_unique_values\": 47,\n        \"samples\": [\n          21,\n          45,\n          36\n        ],\n        \"semantic_type\": \"\",\n        \"description\": \"\"\n      }\n    },\n    {\n      \"column\": \"sex\",\n      \"properties\": {\n        \"dtype\": \"category\",\n        \"num_unique_values\": 2,\n        \"samples\": [\n          \"male\",\n          \"female\"\n        ],\n        \"semantic_type\": \"\",\n        \"description\": \"\"\n      }\n    },\n    {\n      \"column\": \"bmi\",\n      \"properties\": {\n        \"dtype\": \"number\",\n        \"std\": 6.098186911679017,\n        \"min\": 15.96,\n        \"max\": 53.13,\n        \"num_unique_values\": 548,\n        \"samples\": [\n          23.18,\n          26.885\n        ],\n        \"semantic_type\": \"\",\n        \"description\": \"\"\n      }\n    },\n    {\n      \"column\": \"children\",\n      \"properties\": {\n        \"dtype\": \"number\",\n        \"std\": 1,\n        \"min\": 0,\n        \"max\": 5,\n        \"num_unique_values\": 6,\n        \"samples\": [\n          0,\n          1\n        ],\n        \"semantic_type\": \"\",\n        \"description\": \"\"\n      }\n    },\n    {\n      \"column\": \"smoker\",\n      \"properties\": {\n        \"dtype\": \"category\",\n        \"num_unique_values\": 2,\n        \"samples\": [\n          \"no\",\n          \"yes\"\n        ],\n        \"semantic_type\": \"\",\n        \"description\": \"\"\n      }\n    },\n    {\n      \"column\": \"region\",\n      \"properties\": {\n        \"dtype\": \"category\",\n        \"num_unique_values\": 4,\n        \"samples\": [\n          \"southeast\",\n          \"northeast\"\n        ],\n        \"semantic_type\": \"\",\n        \"description\": \"\"\n      }\n    },\n    {\n      \"column\": \"charges\",\n      \"properties\": {\n        \"dtype\": \"number\",\n        \"std\": 12110.011236693994,\n        \"min\": 1121.8739,\n        \"max\": 63770.42801,\n        \"num_unique_values\": 1337,\n        \"samples\": [\n          8688.85885,\n          5708.867\n        ],\n        \"semantic_type\": \"\",\n        \"description\": \"\"\n      }\n    }\n  ]\n}"
            }
          },
          "metadata": {},
          "execution_count": 9
        }
      ]
    },
    {
      "cell_type": "code",
      "source": [
        "df.info()"
      ],
      "metadata": {
        "colab": {
          "base_uri": "https://localhost:8080/"
        },
        "id": "ed-8mfdLnaE_",
        "outputId": "7af449c5-9ec0-4202-8833-4b15417592a0"
      },
      "execution_count": null,
      "outputs": [
        {
          "output_type": "stream",
          "name": "stdout",
          "text": [
            "<class 'pandas.core.frame.DataFrame'>\n",
            "RangeIndex: 1338 entries, 0 to 1337\n",
            "Data columns (total 7 columns):\n",
            " #   Column    Non-Null Count  Dtype  \n",
            "---  ------    --------------  -----  \n",
            " 0   age       1338 non-null   int64  \n",
            " 1   sex       1338 non-null   object \n",
            " 2   bmi       1338 non-null   float64\n",
            " 3   children  1338 non-null   int64  \n",
            " 4   smoker    1338 non-null   object \n",
            " 5   region    1338 non-null   object \n",
            " 6   charges   1338 non-null   float64\n",
            "dtypes: float64(2), int64(2), object(3)\n",
            "memory usage: 73.3+ KB\n"
          ]
        }
      ]
    },
    {
      "cell_type": "code",
      "source": [
        "df.describe()"
      ],
      "metadata": {
        "colab": {
          "base_uri": "https://localhost:8080/",
          "height": 300
        },
        "id": "YglkhohLnbuD",
        "outputId": "f35e8d81-57fe-476b-89a2-670bbe987428"
      },
      "execution_count": null,
      "outputs": [
        {
          "output_type": "execute_result",
          "data": {
            "text/plain": [
              "               age          bmi     children       charges\n",
              "count  1338.000000  1338.000000  1338.000000   1338.000000\n",
              "mean     39.207025    30.663397     1.094918  13270.422265\n",
              "std      14.049960     6.098187     1.205493  12110.011237\n",
              "min      18.000000    15.960000     0.000000   1121.873900\n",
              "25%      27.000000    26.296250     0.000000   4740.287150\n",
              "50%      39.000000    30.400000     1.000000   9382.033000\n",
              "75%      51.000000    34.693750     2.000000  16639.912515\n",
              "max      64.000000    53.130000     5.000000  63770.428010"
            ],
            "text/html": [
              "\n",
              "  <div id=\"df-0c654b77-4d92-47e5-9f2d-becf9c9fd0c2\" class=\"colab-df-container\">\n",
              "    <div>\n",
              "<style scoped>\n",
              "    .dataframe tbody tr th:only-of-type {\n",
              "        vertical-align: middle;\n",
              "    }\n",
              "\n",
              "    .dataframe tbody tr th {\n",
              "        vertical-align: top;\n",
              "    }\n",
              "\n",
              "    .dataframe thead th {\n",
              "        text-align: right;\n",
              "    }\n",
              "</style>\n",
              "<table border=\"1\" class=\"dataframe\">\n",
              "  <thead>\n",
              "    <tr style=\"text-align: right;\">\n",
              "      <th></th>\n",
              "      <th>age</th>\n",
              "      <th>bmi</th>\n",
              "      <th>children</th>\n",
              "      <th>charges</th>\n",
              "    </tr>\n",
              "  </thead>\n",
              "  <tbody>\n",
              "    <tr>\n",
              "      <th>count</th>\n",
              "      <td>1338.000000</td>\n",
              "      <td>1338.000000</td>\n",
              "      <td>1338.000000</td>\n",
              "      <td>1338.000000</td>\n",
              "    </tr>\n",
              "    <tr>\n",
              "      <th>mean</th>\n",
              "      <td>39.207025</td>\n",
              "      <td>30.663397</td>\n",
              "      <td>1.094918</td>\n",
              "      <td>13270.422265</td>\n",
              "    </tr>\n",
              "    <tr>\n",
              "      <th>std</th>\n",
              "      <td>14.049960</td>\n",
              "      <td>6.098187</td>\n",
              "      <td>1.205493</td>\n",
              "      <td>12110.011237</td>\n",
              "    </tr>\n",
              "    <tr>\n",
              "      <th>min</th>\n",
              "      <td>18.000000</td>\n",
              "      <td>15.960000</td>\n",
              "      <td>0.000000</td>\n",
              "      <td>1121.873900</td>\n",
              "    </tr>\n",
              "    <tr>\n",
              "      <th>25%</th>\n",
              "      <td>27.000000</td>\n",
              "      <td>26.296250</td>\n",
              "      <td>0.000000</td>\n",
              "      <td>4740.287150</td>\n",
              "    </tr>\n",
              "    <tr>\n",
              "      <th>50%</th>\n",
              "      <td>39.000000</td>\n",
              "      <td>30.400000</td>\n",
              "      <td>1.000000</td>\n",
              "      <td>9382.033000</td>\n",
              "    </tr>\n",
              "    <tr>\n",
              "      <th>75%</th>\n",
              "      <td>51.000000</td>\n",
              "      <td>34.693750</td>\n",
              "      <td>2.000000</td>\n",
              "      <td>16639.912515</td>\n",
              "    </tr>\n",
              "    <tr>\n",
              "      <th>max</th>\n",
              "      <td>64.000000</td>\n",
              "      <td>53.130000</td>\n",
              "      <td>5.000000</td>\n",
              "      <td>63770.428010</td>\n",
              "    </tr>\n",
              "  </tbody>\n",
              "</table>\n",
              "</div>\n",
              "    <div class=\"colab-df-buttons\">\n",
              "\n",
              "  <div class=\"colab-df-container\">\n",
              "    <button class=\"colab-df-convert\" onclick=\"convertToInteractive('df-0c654b77-4d92-47e5-9f2d-becf9c9fd0c2')\"\n",
              "            title=\"Convert this dataframe to an interactive table.\"\n",
              "            style=\"display:none;\">\n",
              "\n",
              "  <svg xmlns=\"http://www.w3.org/2000/svg\" height=\"24px\" viewBox=\"0 -960 960 960\">\n",
              "    <path d=\"M120-120v-720h720v720H120Zm60-500h600v-160H180v160Zm220 220h160v-160H400v160Zm0 220h160v-160H400v160ZM180-400h160v-160H180v160Zm440 0h160v-160H620v160ZM180-180h160v-160H180v160Zm440 0h160v-160H620v160Z\"/>\n",
              "  </svg>\n",
              "    </button>\n",
              "\n",
              "  <style>\n",
              "    .colab-df-container {\n",
              "      display:flex;\n",
              "      gap: 12px;\n",
              "    }\n",
              "\n",
              "    .colab-df-convert {\n",
              "      background-color: #E8F0FE;\n",
              "      border: none;\n",
              "      border-radius: 50%;\n",
              "      cursor: pointer;\n",
              "      display: none;\n",
              "      fill: #1967D2;\n",
              "      height: 32px;\n",
              "      padding: 0 0 0 0;\n",
              "      width: 32px;\n",
              "    }\n",
              "\n",
              "    .colab-df-convert:hover {\n",
              "      background-color: #E2EBFA;\n",
              "      box-shadow: 0px 1px 2px rgba(60, 64, 67, 0.3), 0px 1px 3px 1px rgba(60, 64, 67, 0.15);\n",
              "      fill: #174EA6;\n",
              "    }\n",
              "\n",
              "    .colab-df-buttons div {\n",
              "      margin-bottom: 4px;\n",
              "    }\n",
              "\n",
              "    [theme=dark] .colab-df-convert {\n",
              "      background-color: #3B4455;\n",
              "      fill: #D2E3FC;\n",
              "    }\n",
              "\n",
              "    [theme=dark] .colab-df-convert:hover {\n",
              "      background-color: #434B5C;\n",
              "      box-shadow: 0px 1px 3px 1px rgba(0, 0, 0, 0.15);\n",
              "      filter: drop-shadow(0px 1px 2px rgba(0, 0, 0, 0.3));\n",
              "      fill: #FFFFFF;\n",
              "    }\n",
              "  </style>\n",
              "\n",
              "    <script>\n",
              "      const buttonEl =\n",
              "        document.querySelector('#df-0c654b77-4d92-47e5-9f2d-becf9c9fd0c2 button.colab-df-convert');\n",
              "      buttonEl.style.display =\n",
              "        google.colab.kernel.accessAllowed ? 'block' : 'none';\n",
              "\n",
              "      async function convertToInteractive(key) {\n",
              "        const element = document.querySelector('#df-0c654b77-4d92-47e5-9f2d-becf9c9fd0c2');\n",
              "        const dataTable =\n",
              "          await google.colab.kernel.invokeFunction('convertToInteractive',\n",
              "                                                    [key], {});\n",
              "        if (!dataTable) return;\n",
              "\n",
              "        const docLinkHtml = 'Like what you see? Visit the ' +\n",
              "          '<a target=\"_blank\" href=https://colab.research.google.com/notebooks/data_table.ipynb>data table notebook</a>'\n",
              "          + ' to learn more about interactive tables.';\n",
              "        element.innerHTML = '';\n",
              "        dataTable['output_type'] = 'display_data';\n",
              "        await google.colab.output.renderOutput(dataTable, element);\n",
              "        const docLink = document.createElement('div');\n",
              "        docLink.innerHTML = docLinkHtml;\n",
              "        element.appendChild(docLink);\n",
              "      }\n",
              "    </script>\n",
              "  </div>\n",
              "\n",
              "\n",
              "    <div id=\"df-9f493a2a-224b-4df1-828a-71e08127f586\">\n",
              "      <button class=\"colab-df-quickchart\" onclick=\"quickchart('df-9f493a2a-224b-4df1-828a-71e08127f586')\"\n",
              "                title=\"Suggest charts\"\n",
              "                style=\"display:none;\">\n",
              "\n",
              "<svg xmlns=\"http://www.w3.org/2000/svg\" height=\"24px\"viewBox=\"0 0 24 24\"\n",
              "     width=\"24px\">\n",
              "    <g>\n",
              "        <path d=\"M19 3H5c-1.1 0-2 .9-2 2v14c0 1.1.9 2 2 2h14c1.1 0 2-.9 2-2V5c0-1.1-.9-2-2-2zM9 17H7v-7h2v7zm4 0h-2V7h2v10zm4 0h-2v-4h2v4z\"/>\n",
              "    </g>\n",
              "</svg>\n",
              "      </button>\n",
              "\n",
              "<style>\n",
              "  .colab-df-quickchart {\n",
              "      --bg-color: #E8F0FE;\n",
              "      --fill-color: #1967D2;\n",
              "      --hover-bg-color: #E2EBFA;\n",
              "      --hover-fill-color: #174EA6;\n",
              "      --disabled-fill-color: #AAA;\n",
              "      --disabled-bg-color: #DDD;\n",
              "  }\n",
              "\n",
              "  [theme=dark] .colab-df-quickchart {\n",
              "      --bg-color: #3B4455;\n",
              "      --fill-color: #D2E3FC;\n",
              "      --hover-bg-color: #434B5C;\n",
              "      --hover-fill-color: #FFFFFF;\n",
              "      --disabled-bg-color: #3B4455;\n",
              "      --disabled-fill-color: #666;\n",
              "  }\n",
              "\n",
              "  .colab-df-quickchart {\n",
              "    background-color: var(--bg-color);\n",
              "    border: none;\n",
              "    border-radius: 50%;\n",
              "    cursor: pointer;\n",
              "    display: none;\n",
              "    fill: var(--fill-color);\n",
              "    height: 32px;\n",
              "    padding: 0;\n",
              "    width: 32px;\n",
              "  }\n",
              "\n",
              "  .colab-df-quickchart:hover {\n",
              "    background-color: var(--hover-bg-color);\n",
              "    box-shadow: 0 1px 2px rgba(60, 64, 67, 0.3), 0 1px 3px 1px rgba(60, 64, 67, 0.15);\n",
              "    fill: var(--button-hover-fill-color);\n",
              "  }\n",
              "\n",
              "  .colab-df-quickchart-complete:disabled,\n",
              "  .colab-df-quickchart-complete:disabled:hover {\n",
              "    background-color: var(--disabled-bg-color);\n",
              "    fill: var(--disabled-fill-color);\n",
              "    box-shadow: none;\n",
              "  }\n",
              "\n",
              "  .colab-df-spinner {\n",
              "    border: 2px solid var(--fill-color);\n",
              "    border-color: transparent;\n",
              "    border-bottom-color: var(--fill-color);\n",
              "    animation:\n",
              "      spin 1s steps(1) infinite;\n",
              "  }\n",
              "\n",
              "  @keyframes spin {\n",
              "    0% {\n",
              "      border-color: transparent;\n",
              "      border-bottom-color: var(--fill-color);\n",
              "      border-left-color: var(--fill-color);\n",
              "    }\n",
              "    20% {\n",
              "      border-color: transparent;\n",
              "      border-left-color: var(--fill-color);\n",
              "      border-top-color: var(--fill-color);\n",
              "    }\n",
              "    30% {\n",
              "      border-color: transparent;\n",
              "      border-left-color: var(--fill-color);\n",
              "      border-top-color: var(--fill-color);\n",
              "      border-right-color: var(--fill-color);\n",
              "    }\n",
              "    40% {\n",
              "      border-color: transparent;\n",
              "      border-right-color: var(--fill-color);\n",
              "      border-top-color: var(--fill-color);\n",
              "    }\n",
              "    60% {\n",
              "      border-color: transparent;\n",
              "      border-right-color: var(--fill-color);\n",
              "    }\n",
              "    80% {\n",
              "      border-color: transparent;\n",
              "      border-right-color: var(--fill-color);\n",
              "      border-bottom-color: var(--fill-color);\n",
              "    }\n",
              "    90% {\n",
              "      border-color: transparent;\n",
              "      border-bottom-color: var(--fill-color);\n",
              "    }\n",
              "  }\n",
              "</style>\n",
              "\n",
              "      <script>\n",
              "        async function quickchart(key) {\n",
              "          const quickchartButtonEl =\n",
              "            document.querySelector('#' + key + ' button');\n",
              "          quickchartButtonEl.disabled = true;  // To prevent multiple clicks.\n",
              "          quickchartButtonEl.classList.add('colab-df-spinner');\n",
              "          try {\n",
              "            const charts = await google.colab.kernel.invokeFunction(\n",
              "                'suggestCharts', [key], {});\n",
              "          } catch (error) {\n",
              "            console.error('Error during call to suggestCharts:', error);\n",
              "          }\n",
              "          quickchartButtonEl.classList.remove('colab-df-spinner');\n",
              "          quickchartButtonEl.classList.add('colab-df-quickchart-complete');\n",
              "        }\n",
              "        (() => {\n",
              "          let quickchartButtonEl =\n",
              "            document.querySelector('#df-9f493a2a-224b-4df1-828a-71e08127f586 button');\n",
              "          quickchartButtonEl.style.display =\n",
              "            google.colab.kernel.accessAllowed ? 'block' : 'none';\n",
              "        })();\n",
              "      </script>\n",
              "    </div>\n",
              "\n",
              "    </div>\n",
              "  </div>\n"
            ],
            "application/vnd.google.colaboratory.intrinsic+json": {
              "type": "dataframe",
              "summary": "{\n  \"name\": \"df\",\n  \"rows\": 8,\n  \"fields\": [\n    {\n      \"column\": \"age\",\n      \"properties\": {\n        \"dtype\": \"number\",\n        \"std\": 460.6106090399993,\n        \"min\": 14.049960379216172,\n        \"max\": 1338.0,\n        \"num_unique_values\": 8,\n        \"samples\": [\n          39.20702541106129,\n          39.0,\n          1338.0\n        ],\n        \"semantic_type\": \"\",\n        \"description\": \"\"\n      }\n    },\n    {\n      \"column\": \"bmi\",\n      \"properties\": {\n        \"dtype\": \"number\",\n        \"std\": 463.29524977918294,\n        \"min\": 6.098186911679017,\n        \"max\": 1338.0,\n        \"num_unique_values\": 8,\n        \"samples\": [\n          30.66339686098655,\n          30.4,\n          1338.0\n        ],\n        \"semantic_type\": \"\",\n        \"description\": \"\"\n      }\n    },\n    {\n      \"column\": \"children\",\n      \"properties\": {\n        \"dtype\": \"number\",\n        \"std\": 472.5368318870757,\n        \"min\": 0.0,\n        \"max\": 1338.0,\n        \"num_unique_values\": 7,\n        \"samples\": [\n          1338.0,\n          1.0949177877429,\n          2.0\n        ],\n        \"semantic_type\": \"\",\n        \"description\": \"\"\n      }\n    },\n    {\n      \"column\": \"charges\",\n      \"properties\": {\n        \"dtype\": \"number\",\n        \"std\": 20381.922846226596,\n        \"min\": 1121.8739,\n        \"max\": 63770.42801,\n        \"num_unique_values\": 8,\n        \"samples\": [\n          13270.422265141257,\n          9382.033,\n          1338.0\n        ],\n        \"semantic_type\": \"\",\n        \"description\": \"\"\n      }\n    }\n  ]\n}"
            }
          },
          "metadata": {},
          "execution_count": 11
        }
      ]
    },
    {
      "cell_type": "code",
      "source": [
        "import torch\n",
        "import torch.nn as nn\n",
        "import torch.optim as optim\n",
        "from sklearn.preprocessing import LabelEncoder, StandardScaler\n",
        "from sklearn.model_selection import train_test_split\n"
      ],
      "metadata": {
        "id": "WidbIeItndfD"
      },
      "execution_count": null,
      "outputs": []
    },
    {
      "cell_type": "code",
      "source": [
        "# Split dataset before encoding\n",
        "train_df, test_df = train_test_split(df, test_size=0.2, random_state=42)\n"
      ],
      "metadata": {
        "id": "VTSCbe8zne7M"
      },
      "execution_count": null,
      "outputs": []
    },
    {
      "cell_type": "code",
      "source": [
        "# Encode cetagorical variable\n",
        "label_encoder = {}\n",
        "for col in ['sex', 'smoker', 'region']:\n",
        "  le = LabelEncoder()\n",
        "  train_df[col] = le.fit_transform(train_df[col])\n",
        "  test_df[col] = le.transform(test_df[col])\n",
        "  label_encoder[col] = le\n",
        "\n"
      ],
      "metadata": {
        "id": "nxQZDSuXngRg"
      },
      "execution_count": null,
      "outputs": []
    },
    {
      "cell_type": "code",
      "source": [
        "# Features and target\n",
        "X_train = train_df.drop(columns=['charges'])\n",
        "y_train = train_df['charges']\n",
        "\n",
        "X_test = test_df.drop(columns=['charges'])\n",
        "y_test = test_df['charges']"
      ],
      "metadata": {
        "id": "Zvii5_WznhtA"
      },
      "execution_count": null,
      "outputs": []
    },
    {
      "cell_type": "code",
      "source": [
        "print(X_train.head())\n",
        "print(y_train.head())"
      ],
      "metadata": {
        "colab": {
          "base_uri": "https://localhost:8080/"
        },
        "id": "ffgaZm2RnjSG",
        "outputId": "b732ddfd-ecc7-4d81-8ba1-6a2b215906ed"
      },
      "execution_count": null,
      "outputs": [
        {
          "output_type": "stream",
          "name": "stdout",
          "text": [
            "      age  sex    bmi  children  smoker  region\n",
            "560    46    0  19.95         2       0       1\n",
            "1285   47    0  24.32         0       0       0\n",
            "1142   52    0  24.86         0       0       2\n",
            "969    39    0  34.32         5       0       2\n",
            "486    54    0  21.47         3       0       1\n",
            "560      9193.83850\n",
            "1285     8534.67180\n",
            "1142    27117.99378\n",
            "969      8596.82780\n",
            "486     12475.35130\n",
            "Name: charges, dtype: float64\n"
          ]
        }
      ]
    },
    {
      "cell_type": "code",
      "source": [
        "# Normalize features\n",
        "scaler = StandardScaler()\n",
        "X_train = scaler.fit_transform(X_train)\n",
        "X_test = scaler.transform(X_test)"
      ],
      "metadata": {
        "id": "-o_nF0Ljnkx2"
      },
      "execution_count": null,
      "outputs": []
    },
    {
      "cell_type": "code",
      "source": [
        "print(X_train)"
      ],
      "metadata": {
        "colab": {
          "base_uri": "https://localhost:8080/"
        },
        "id": "zAha2lMdnmgL",
        "outputId": "44d226c1-64f6-4ffe-a74c-ebbc0722e798"
      },
      "execution_count": null,
      "outputs": [
        {
          "output_type": "stream",
          "name": "stdout",
          "text": [
            "[[ 0.47222651 -1.0246016  -1.75652513  0.73433626 -0.50874702 -0.45611589]\n",
            " [ 0.54331294 -1.0246016  -1.03308239 -0.91119211 -0.50874702 -1.35325561]\n",
            " [ 0.8987451  -1.0246016  -0.94368672 -0.91119211 -0.50874702  0.44102382]\n",
            " ...\n",
            " [ 1.3252637   0.97598911 -0.89153925 -0.91119211 -0.50874702 -1.35325561]\n",
            " [-0.16755139 -1.0246016   2.82086429  0.73433626  1.96561348  1.33816354]\n",
            " [ 1.1120044   0.97598911 -0.10932713 -0.91119211 -0.50874702  1.33816354]]\n"
          ]
        }
      ]
    },
    {
      "cell_type": "code",
      "source": [
        "# Convert to tensors\n",
        "X_train_tensor = torch.tensor(X_train, dtype=torch.float32)\n",
        "y_train_tensor = torch.tensor(y_train.values, dtype=torch.float32).view(-1, 1)\n",
        "X_test_tensor = torch.tensor(X_test, dtype=torch.float32)\n",
        "y_test_tensor = torch.tensor(y_test.values, dtype=torch.float32).view(-1, 1)"
      ],
      "metadata": {
        "id": "4mS_EU8vnoAA"
      },
      "execution_count": null,
      "outputs": []
    },
    {
      "cell_type": "code",
      "source": [
        "print(y_train_tensor)\n",
        "print(y_train_tensor.shape)"
      ],
      "metadata": {
        "colab": {
          "base_uri": "https://localhost:8080/"
        },
        "id": "L6I3zP9XnpZS",
        "outputId": "aee58959-8380-4f56-b86a-2c14091b1283"
      },
      "execution_count": null,
      "outputs": [
        {
          "output_type": "stream",
          "name": "stdout",
          "text": [
            "tensor([[ 9193.8389],\n",
            "        [ 8534.6719],\n",
            "        [27117.9941],\n",
            "        ...,\n",
            "        [11931.1250],\n",
            "        [46113.5117],\n",
            "        [10214.6357]])\n",
            "torch.Size([1070, 1])\n"
          ]
        }
      ]
    },
    {
      "cell_type": "code",
      "source": [
        "print(X_test_tensor)\n",
        "print(X_test_tensor.shape)"
      ],
      "metadata": {
        "colab": {
          "base_uri": "https://localhost:8080/"
        },
        "id": "G3FIoFQJnrMi",
        "outputId": "e83fdc3c-5be8-400f-eebf-1f2f621e4bd4"
      },
      "execution_count": null,
      "outputs": [
        {
          "output_type": "stream",
          "name": "stdout",
          "text": [
            "tensor([[ 0.4011, -1.0246, -0.8915,  0.7343, -0.5087, -1.3533],\n",
            "        [-0.2386, -1.0246, -0.0895, -0.9112, -0.5087, -0.4561],\n",
            "        [ 1.7518, -1.0246, -0.6085, -0.9112,  1.9656, -0.4561],\n",
            "        ...,\n",
            "        [-0.0965,  0.9760, -0.4197, -0.0884, -0.5087, -1.3533],\n",
            "        [ 1.0409, -1.0246,  2.7894, -0.9112,  1.9656,  0.4410],\n",
            "        [ 0.8277, -1.0246,  0.6025, -0.0884, -0.5087,  1.3382]])\n",
            "torch.Size([268, 6])\n"
          ]
        }
      ]
    },
    {
      "cell_type": "code",
      "source": [
        "# Define Neural network model\n",
        "\n",
        "class SimpleNNRegressionModel(nn.Module):\n",
        "  def __init__(self, input_dim):\n",
        "    super(SimpleNNRegressionModel, self).__init__()\n",
        "    self.network = nn.Sequential(\n",
        "        nn.Linear(input_dim, 64),\n",
        "        nn.ReLU(),\n",
        "        nn.Linear(64, 128),\n",
        "        nn.ReLU(),\n",
        "        nn.Linear(128, 1)\n",
        "    )\n",
        "\n",
        "  def forward(self, x):\n",
        "    return self.network(x)"
      ],
      "metadata": {
        "id": "UtDZ1ShpnsvY"
      },
      "execution_count": null,
      "outputs": []
    },
    {
      "cell_type": "code",
      "source": [
        "X_train_tensor.shape"
      ],
      "metadata": {
        "colab": {
          "base_uri": "https://localhost:8080/"
        },
        "id": "1xHzBX-QouSQ",
        "outputId": "48a53a99-07fa-48b1-e991-46c202247b15"
      },
      "execution_count": null,
      "outputs": [
        {
          "output_type": "execute_result",
          "data": {
            "text/plain": [
              "torch.Size([1070, 6])"
            ]
          },
          "metadata": {},
          "execution_count": 23
        }
      ]
    },
    {
      "cell_type": "code",
      "source": [
        "input_dim = X_train_tensor.shape[1]\n",
        "model = SimpleNNRegressionModel(input_dim)"
      ],
      "metadata": {
        "id": "YJydkBo5oyTa"
      },
      "execution_count": null,
      "outputs": []
    },
    {
      "cell_type": "code",
      "source": [
        "print(model)"
      ],
      "metadata": {
        "colab": {
          "base_uri": "https://localhost:8080/"
        },
        "id": "KePZNoktozud",
        "outputId": "ea0a90da-13db-4588-8405-b20bec35cffe"
      },
      "execution_count": null,
      "outputs": [
        {
          "output_type": "stream",
          "name": "stdout",
          "text": [
            "SimpleNNRegressionModel(\n",
            "  (network): Sequential(\n",
            "    (0): Linear(in_features=6, out_features=64, bias=True)\n",
            "    (1): ReLU()\n",
            "    (2): Linear(in_features=64, out_features=128, bias=True)\n",
            "    (3): ReLU()\n",
            "    (4): Linear(in_features=128, out_features=1, bias=True)\n",
            "  )\n",
            ")\n"
          ]
        }
      ]
    },
    {
      "cell_type": "code",
      "source": [
        "# Loss and optmiser\n",
        "\n",
        "criterion = nn.MSELoss()\n",
        "optimiser = optim.Adam(model.parameters(), lr=0.01)"
      ],
      "metadata": {
        "id": "x2sVFQxgo1GB"
      },
      "execution_count": null,
      "outputs": []
    },
    {
      "cell_type": "code",
      "source": [
        "# Training loop\n",
        "epochs = 30000\n",
        "\n",
        "for epoch in range(epochs):\n",
        "  model.train()\n",
        "  optimiser.zero_grad()\n",
        "  predictions = model(X_train_tensor)\n",
        "  loss = criterion(predictions, y_train_tensor)\n",
        "  loss.backward()\n",
        "\n",
        "  optimiser.step()\n",
        "\n",
        "  if (epoch+1) % 100 == 0:\n",
        "    print(f\"Epoch [{epoch+1}/{epochs}], Loss : {loss.item():.4f}\")"
      ],
      "metadata": {
        "colab": {
          "base_uri": "https://localhost:8080/"
        },
        "id": "wuRhaU04o2on",
        "outputId": "8d410e6a-e1c1-4fb3-9b44-f203459a7a8f"
      },
      "execution_count": null,
      "outputs": [
        {
          "output_type": "stream",
          "name": "stdout",
          "text": [
            "Epoch [100/30000], Loss : 45702688.0000\n",
            "Epoch [200/30000], Loss : 32253306.0000\n",
            "Epoch [300/30000], Loss : 30073744.0000\n",
            "Epoch [400/30000], Loss : 27901882.0000\n",
            "Epoch [500/30000], Loss : 26460680.0000\n",
            "Epoch [600/30000], Loss : 25507344.0000\n",
            "Epoch [700/30000], Loss : 24747198.0000\n",
            "Epoch [800/30000], Loss : 24136398.0000\n",
            "Epoch [900/30000], Loss : 23693618.0000\n",
            "Epoch [1000/30000], Loss : 23380548.0000\n",
            "Epoch [1100/30000], Loss : 23087808.0000\n",
            "Epoch [1200/30000], Loss : 22771090.0000\n",
            "Epoch [1300/30000], Loss : 22460362.0000\n",
            "Epoch [1400/30000], Loss : 22175922.0000\n",
            "Epoch [1500/30000], Loss : 21902986.0000\n",
            "Epoch [1600/30000], Loss : 21621392.0000\n",
            "Epoch [1700/30000], Loss : 21310200.0000\n",
            "Epoch [1800/30000], Loss : 21082658.0000\n",
            "Epoch [1900/30000], Loss : 20882306.0000\n",
            "Epoch [2000/30000], Loss : 20683656.0000\n",
            "Epoch [2100/30000], Loss : 20402342.0000\n",
            "Epoch [2200/30000], Loss : 20001754.0000\n",
            "Epoch [2300/30000], Loss : 19465622.0000\n",
            "Epoch [2400/30000], Loss : 18907132.0000\n",
            "Epoch [2500/30000], Loss : 18299042.0000\n",
            "Epoch [2600/30000], Loss : 17749218.0000\n",
            "Epoch [2700/30000], Loss : 17281534.0000\n",
            "Epoch [2800/30000], Loss : 16848350.0000\n",
            "Epoch [2900/30000], Loss : 16505379.0000\n",
            "Epoch [3000/30000], Loss : 16191689.0000\n",
            "Epoch [3100/30000], Loss : 15940129.0000\n",
            "Epoch [3200/30000], Loss : 15696528.0000\n",
            "Epoch [3300/30000], Loss : 15459259.0000\n",
            "Epoch [3400/30000], Loss : 15182467.0000\n",
            "Epoch [3500/30000], Loss : 14887800.0000\n",
            "Epoch [3600/30000], Loss : 14613020.0000\n",
            "Epoch [3700/30000], Loss : 14360235.0000\n",
            "Epoch [3800/30000], Loss : 14081269.0000\n",
            "Epoch [3900/30000], Loss : 13843435.0000\n",
            "Epoch [4000/30000], Loss : 13604669.0000\n",
            "Epoch [4100/30000], Loss : 13328580.0000\n",
            "Epoch [4200/30000], Loss : 13052507.0000\n",
            "Epoch [4300/30000], Loss : 12784980.0000\n",
            "Epoch [4400/30000], Loss : 12540090.0000\n",
            "Epoch [4500/30000], Loss : 12314730.0000\n",
            "Epoch [4600/30000], Loss : 12078344.0000\n",
            "Epoch [4700/30000], Loss : 11795473.0000\n",
            "Epoch [4800/30000], Loss : 11477767.0000\n",
            "Epoch [4900/30000], Loss : 11218083.0000\n",
            "Epoch [5000/30000], Loss : 10993814.0000\n",
            "Epoch [5100/30000], Loss : 10731814.0000\n",
            "Epoch [5200/30000], Loss : 10502396.0000\n",
            "Epoch [5300/30000], Loss : 10245422.0000\n",
            "Epoch [5400/30000], Loss : 9989727.0000\n",
            "Epoch [5500/30000], Loss : 9767857.0000\n",
            "Epoch [5600/30000], Loss : 9567069.0000\n",
            "Epoch [5700/30000], Loss : 9382208.0000\n",
            "Epoch [5800/30000], Loss : 9210914.0000\n",
            "Epoch [5900/30000], Loss : 9058412.0000\n",
            "Epoch [6000/30000], Loss : 8908366.0000\n",
            "Epoch [6100/30000], Loss : 8770065.0000\n",
            "Epoch [6200/30000], Loss : 8648309.0000\n",
            "Epoch [6300/30000], Loss : 8533470.0000\n",
            "Epoch [6400/30000], Loss : 8434734.0000\n",
            "Epoch [6500/30000], Loss : 8339602.5000\n",
            "Epoch [6600/30000], Loss : 8247792.5000\n",
            "Epoch [6700/30000], Loss : 8139358.0000\n",
            "Epoch [6800/30000], Loss : 8038443.0000\n",
            "Epoch [6900/30000], Loss : 7930160.0000\n",
            "Epoch [7000/30000], Loss : 7843628.5000\n",
            "Epoch [7100/30000], Loss : 7768523.5000\n",
            "Epoch [7200/30000], Loss : 7679033.0000\n",
            "Epoch [7300/30000], Loss : 7585154.5000\n",
            "Epoch [7400/30000], Loss : 7501055.5000\n",
            "Epoch [7500/30000], Loss : 7440353.0000\n",
            "Epoch [7600/30000], Loss : 7372112.5000\n",
            "Epoch [7700/30000], Loss : 7291777.0000\n",
            "Epoch [7800/30000], Loss : 7230895.5000\n",
            "Epoch [7900/30000], Loss : 7166968.0000\n",
            "Epoch [8000/30000], Loss : 7104250.0000\n",
            "Epoch [8100/30000], Loss : 7047951.0000\n",
            "Epoch [8200/30000], Loss : 6987230.5000\n",
            "Epoch [8300/30000], Loss : 6909030.5000\n",
            "Epoch [8400/30000], Loss : 6842283.0000\n",
            "Epoch [8500/30000], Loss : 6787670.5000\n",
            "Epoch [8600/30000], Loss : 6730183.0000\n",
            "Epoch [8700/30000], Loss : 6673432.0000\n",
            "Epoch [8800/30000], Loss : 6619167.0000\n",
            "Epoch [8900/30000], Loss : 6558670.0000\n",
            "Epoch [9000/30000], Loss : 6516552.5000\n",
            "Epoch [9100/30000], Loss : 6441099.0000\n",
            "Epoch [9200/30000], Loss : 6395161.0000\n",
            "Epoch [9300/30000], Loss : 6335388.0000\n",
            "Epoch [9400/30000], Loss : 6265435.5000\n",
            "Epoch [9500/30000], Loss : 6203193.5000\n",
            "Epoch [9600/30000], Loss : 6146700.0000\n",
            "Epoch [9700/30000], Loss : 6093088.0000\n",
            "Epoch [9800/30000], Loss : 6051239.5000\n",
            "Epoch [9900/30000], Loss : 5990725.5000\n",
            "Epoch [10000/30000], Loss : 5926854.5000\n",
            "Epoch [10100/30000], Loss : 5885654.0000\n",
            "Epoch [10200/30000], Loss : 5837993.0000\n",
            "Epoch [10300/30000], Loss : 5792147.5000\n",
            "Epoch [10400/30000], Loss : 5760729.0000\n",
            "Epoch [10500/30000], Loss : 5717591.0000\n",
            "Epoch [10600/30000], Loss : 5678317.0000\n",
            "Epoch [10700/30000], Loss : 5650980.0000\n",
            "Epoch [10800/30000], Loss : 5611550.5000\n",
            "Epoch [10900/30000], Loss : 5575376.5000\n",
            "Epoch [11000/30000], Loss : 5542688.0000\n",
            "Epoch [11100/30000], Loss : 5511977.5000\n",
            "Epoch [11200/30000], Loss : 5488801.5000\n",
            "Epoch [11300/30000], Loss : 5469395.0000\n",
            "Epoch [11400/30000], Loss : 5437710.0000\n",
            "Epoch [11500/30000], Loss : 5410911.5000\n",
            "Epoch [11600/30000], Loss : 5379939.0000\n",
            "Epoch [11700/30000], Loss : 5360325.0000\n",
            "Epoch [11800/30000], Loss : 5330046.0000\n",
            "Epoch [11900/30000], Loss : 5292518.0000\n",
            "Epoch [12000/30000], Loss : 5270418.0000\n",
            "Epoch [12100/30000], Loss : 5244354.5000\n",
            "Epoch [12200/30000], Loss : 5218366.5000\n",
            "Epoch [12300/30000], Loss : 5195913.5000\n",
            "Epoch [12400/30000], Loss : 5173215.0000\n",
            "Epoch [12500/30000], Loss : 5158332.5000\n",
            "Epoch [12600/30000], Loss : 5133597.5000\n",
            "Epoch [12700/30000], Loss : 5109353.0000\n",
            "Epoch [12800/30000], Loss : 5084809.0000\n",
            "Epoch [12900/30000], Loss : 5075978.0000\n",
            "Epoch [13000/30000], Loss : 5037774.5000\n",
            "Epoch [13100/30000], Loss : 5012902.5000\n",
            "Epoch [13200/30000], Loss : 4989720.0000\n",
            "Epoch [13300/30000], Loss : 4969763.0000\n",
            "Epoch [13400/30000], Loss : 4948967.5000\n",
            "Epoch [13500/30000], Loss : 4921541.0000\n",
            "Epoch [13600/30000], Loss : 4894902.5000\n",
            "Epoch [13700/30000], Loss : 4866473.5000\n",
            "Epoch [13800/30000], Loss : 4833621.0000\n",
            "Epoch [13900/30000], Loss : 4804743.5000\n",
            "Epoch [14000/30000], Loss : 4773938.5000\n",
            "Epoch [14100/30000], Loss : 4746494.0000\n",
            "Epoch [14200/30000], Loss : 4717622.5000\n",
            "Epoch [14300/30000], Loss : 4702966.0000\n",
            "Epoch [14400/30000], Loss : 4671170.5000\n",
            "Epoch [14500/30000], Loss : 4653208.5000\n",
            "Epoch [14600/30000], Loss : 4633950.5000\n",
            "Epoch [14700/30000], Loss : 4608017.5000\n",
            "Epoch [14800/30000], Loss : 4586301.5000\n",
            "Epoch [14900/30000], Loss : 4567390.0000\n",
            "Epoch [15000/30000], Loss : 4547675.5000\n",
            "Epoch [15100/30000], Loss : 4521420.0000\n",
            "Epoch [15200/30000], Loss : 4505176.5000\n",
            "Epoch [15300/30000], Loss : 4479302.0000\n",
            "Epoch [15400/30000], Loss : 4462365.0000\n",
            "Epoch [15500/30000], Loss : 4456779.0000\n",
            "Epoch [15600/30000], Loss : 4432739.0000\n",
            "Epoch [15700/30000], Loss : 4432746.5000\n",
            "Epoch [15800/30000], Loss : 4396832.5000\n",
            "Epoch [15900/30000], Loss : 4366665.5000\n",
            "Epoch [16000/30000], Loss : 4349157.0000\n",
            "Epoch [16100/30000], Loss : 4332681.0000\n",
            "Epoch [16200/30000], Loss : 4316734.0000\n",
            "Epoch [16300/30000], Loss : 4289828.5000\n",
            "Epoch [16400/30000], Loss : 4275230.0000\n",
            "Epoch [16500/30000], Loss : 4259230.5000\n",
            "Epoch [16600/30000], Loss : 4243954.5000\n",
            "Epoch [16700/30000], Loss : 4220775.0000\n",
            "Epoch [16800/30000], Loss : 4200293.0000\n",
            "Epoch [16900/30000], Loss : 4185643.0000\n",
            "Epoch [17000/30000], Loss : 4155905.5000\n",
            "Epoch [17100/30000], Loss : 4138370.7500\n",
            "Epoch [17200/30000], Loss : 4118609.2500\n",
            "Epoch [17300/30000], Loss : 4104816.0000\n",
            "Epoch [17400/30000], Loss : 4090840.7500\n",
            "Epoch [17500/30000], Loss : 4062660.7500\n",
            "Epoch [17600/30000], Loss : 4040286.7500\n",
            "Epoch [17700/30000], Loss : 4003578.0000\n",
            "Epoch [17800/30000], Loss : 3975123.2500\n",
            "Epoch [17900/30000], Loss : 3947528.2500\n",
            "Epoch [18000/30000], Loss : 3935544.7500\n",
            "Epoch [18100/30000], Loss : 3890761.0000\n",
            "Epoch [18200/30000], Loss : 3866209.5000\n",
            "Epoch [18300/30000], Loss : 3861359.0000\n",
            "Epoch [18400/30000], Loss : 3822588.7500\n",
            "Epoch [18500/30000], Loss : 3795531.2500\n",
            "Epoch [18600/30000], Loss : 3778872.7500\n",
            "Epoch [18700/30000], Loss : 3752628.5000\n",
            "Epoch [18800/30000], Loss : 3733112.5000\n",
            "Epoch [18900/30000], Loss : 3711239.0000\n",
            "Epoch [19000/30000], Loss : 3696359.5000\n",
            "Epoch [19100/30000], Loss : 3671334.7500\n",
            "Epoch [19200/30000], Loss : 3654406.7500\n",
            "Epoch [19300/30000], Loss : 3633980.7500\n",
            "Epoch [19400/30000], Loss : 3613856.5000\n",
            "Epoch [19500/30000], Loss : 3596751.0000\n",
            "Epoch [19600/30000], Loss : 3582931.5000\n",
            "Epoch [19700/30000], Loss : 3568776.5000\n",
            "Epoch [19800/30000], Loss : 3568949.7500\n",
            "Epoch [19900/30000], Loss : 3534830.2500\n",
            "Epoch [20000/30000], Loss : 3510174.7500\n",
            "Epoch [20100/30000], Loss : 3497659.2500\n",
            "Epoch [20200/30000], Loss : 3484744.7500\n",
            "Epoch [20300/30000], Loss : 3451695.7500\n",
            "Epoch [20400/30000], Loss : 3441595.0000\n",
            "Epoch [20500/30000], Loss : 3419118.2500\n",
            "Epoch [20600/30000], Loss : 3404198.2500\n",
            "Epoch [20700/30000], Loss : 3388998.0000\n",
            "Epoch [20800/30000], Loss : 3371473.5000\n",
            "Epoch [20900/30000], Loss : 3364483.7500\n",
            "Epoch [21000/30000], Loss : 3343412.2500\n",
            "Epoch [21100/30000], Loss : 3341092.5000\n",
            "Epoch [21200/30000], Loss : 3318336.0000\n",
            "Epoch [21300/30000], Loss : 3311160.7500\n",
            "Epoch [21400/30000], Loss : 3289496.7500\n",
            "Epoch [21500/30000], Loss : 3281182.5000\n",
            "Epoch [21600/30000], Loss : 3261154.5000\n",
            "Epoch [21700/30000], Loss : 3248435.7500\n",
            "Epoch [21800/30000], Loss : 3253206.5000\n",
            "Epoch [21900/30000], Loss : 3219566.5000\n",
            "Epoch [22000/30000], Loss : 3211888.5000\n",
            "Epoch [22100/30000], Loss : 3205172.0000\n",
            "Epoch [22200/30000], Loss : 3182299.2500\n",
            "Epoch [22300/30000], Loss : 3170718.7500\n",
            "Epoch [22400/30000], Loss : 3176576.2500\n",
            "Epoch [22500/30000], Loss : 3167675.7500\n",
            "Epoch [22600/30000], Loss : 3136576.5000\n",
            "Epoch [22700/30000], Loss : 3140464.7500\n",
            "Epoch [22800/30000], Loss : 3115977.2500\n",
            "Epoch [22900/30000], Loss : 3111741.5000\n",
            "Epoch [23000/30000], Loss : 3097083.7500\n",
            "Epoch [23100/30000], Loss : 3093287.7500\n",
            "Epoch [23200/30000], Loss : 3072063.0000\n",
            "Epoch [23300/30000], Loss : 3076156.5000\n",
            "Epoch [23400/30000], Loss : 3052182.5000\n",
            "Epoch [23500/30000], Loss : 3064260.7500\n",
            "Epoch [23600/30000], Loss : 3021251.2500\n",
            "Epoch [23700/30000], Loss : 3021889.7500\n",
            "Epoch [23800/30000], Loss : 2996095.5000\n",
            "Epoch [23900/30000], Loss : 2975452.7500\n",
            "Epoch [24000/30000], Loss : 2978149.2500\n",
            "Epoch [24100/30000], Loss : 2964033.0000\n",
            "Epoch [24200/30000], Loss : 2960585.7500\n",
            "Epoch [24300/30000], Loss : 2934786.7500\n",
            "Epoch [24400/30000], Loss : 2926014.7500\n",
            "Epoch [24500/30000], Loss : 2906968.5000\n",
            "Epoch [24600/30000], Loss : 2897540.2500\n",
            "Epoch [24700/30000], Loss : 2892383.5000\n",
            "Epoch [24800/30000], Loss : 2892291.0000\n",
            "Epoch [24900/30000], Loss : 2863031.2500\n",
            "Epoch [25000/30000], Loss : 2871883.5000\n",
            "Epoch [25100/30000], Loss : 2866332.2500\n",
            "Epoch [25200/30000], Loss : 2833022.0000\n",
            "Epoch [25300/30000], Loss : 2843508.7500\n",
            "Epoch [25400/30000], Loss : 2820319.0000\n",
            "Epoch [25500/30000], Loss : 2797783.0000\n",
            "Epoch [25600/30000], Loss : 2780921.2500\n",
            "Epoch [25700/30000], Loss : 2765551.2500\n",
            "Epoch [25800/30000], Loss : 2752721.0000\n",
            "Epoch [25900/30000], Loss : 2754701.0000\n",
            "Epoch [26000/30000], Loss : 2731282.5000\n",
            "Epoch [26100/30000], Loss : 2719782.0000\n",
            "Epoch [26200/30000], Loss : 2724055.5000\n",
            "Epoch [26300/30000], Loss : 2714229.2500\n",
            "Epoch [26400/30000], Loss : 2687148.2500\n",
            "Epoch [26500/30000], Loss : 2680661.0000\n",
            "Epoch [26600/30000], Loss : 2685574.7500\n",
            "Epoch [26700/30000], Loss : 2680560.2500\n",
            "Epoch [26800/30000], Loss : 2652442.0000\n",
            "Epoch [26900/30000], Loss : 2642647.2500\n",
            "Epoch [27000/30000], Loss : 2653465.2500\n",
            "Epoch [27100/30000], Loss : 2625135.0000\n",
            "Epoch [27200/30000], Loss : 2634688.2500\n",
            "Epoch [27300/30000], Loss : 2621301.7500\n",
            "Epoch [27400/30000], Loss : 2630484.0000\n",
            "Epoch [27500/30000], Loss : 2594739.7500\n",
            "Epoch [27600/30000], Loss : 2592314.7500\n",
            "Epoch [27700/30000], Loss : 2584549.2500\n",
            "Epoch [27800/30000], Loss : 2580910.7500\n",
            "Epoch [27900/30000], Loss : 2570607.0000\n",
            "Epoch [28000/30000], Loss : 2565112.2500\n",
            "Epoch [28100/30000], Loss : 2549575.0000\n",
            "Epoch [28200/30000], Loss : 2556892.7500\n",
            "Epoch [28300/30000], Loss : 2537635.2500\n",
            "Epoch [28400/30000], Loss : 2529520.2500\n",
            "Epoch [28500/30000], Loss : 2523285.0000\n",
            "Epoch [28600/30000], Loss : 2529371.0000\n",
            "Epoch [28700/30000], Loss : 2521663.7500\n",
            "Epoch [28800/30000], Loss : 2496315.7500\n",
            "Epoch [28900/30000], Loss : 2511989.0000\n",
            "Epoch [29000/30000], Loss : 2486591.2500\n",
            "Epoch [29100/30000], Loss : 2471892.5000\n",
            "Epoch [29200/30000], Loss : 2476202.2500\n",
            "Epoch [29300/30000], Loss : 2473254.5000\n",
            "Epoch [29400/30000], Loss : 2451621.5000\n",
            "Epoch [29500/30000], Loss : 2444617.7500\n",
            "Epoch [29600/30000], Loss : 2433748.0000\n",
            "Epoch [29700/30000], Loss : 2437283.2500\n",
            "Epoch [29800/30000], Loss : 2428537.7500\n",
            "Epoch [29900/30000], Loss : 2409999.7500\n",
            "Epoch [30000/30000], Loss : 2394159.7500\n"
          ]
        }
      ]
    },
    {
      "cell_type": "code",
      "source": [
        "# Model Evaluation\n",
        "\n",
        "model.eval()\n",
        "y_pred = model(X_test_tensor).detach().numpy()"
      ],
      "metadata": {
        "id": "8XcEO5B0o37w"
      },
      "execution_count": null,
      "outputs": []
    },
    {
      "cell_type": "code",
      "source": [
        "from sklearn.metrics import mean_squared_error, mean_absolute_error, r2_score\n",
        "\n",
        "y_test_numpy = y_test_tensor.numpy()\n",
        "\n",
        "# Calculate metrics\n",
        "mse = mean_squared_error(y_test_numpy, y_pred)\n",
        "rmse = mse ** 0.5\n",
        "mae = mean_absolute_error(y_test_numpy, y_pred)\n",
        "r2 = r2_score(y_test_numpy, y_pred)\n",
        "\n",
        "print(f\"MSE : {mse}\")\n",
        "print(f\"RMSE : {rmse}\")\n",
        "print(f\"MAE : {mae}\")\n",
        "print(f\"R2-Score : {r2}\")\n"
      ],
      "metadata": {
        "colab": {
          "base_uri": "https://localhost:8080/"
        },
        "id": "UyCLTUsqo9TJ",
        "outputId": "d44f2f91-f5fa-4342-889f-e455a54681e6"
      },
      "execution_count": null,
      "outputs": [
        {
          "output_type": "stream",
          "name": "stdout",
          "text": [
            "MSE : 64239584.0\n",
            "RMSE : 8014.960012376855\n",
            "MAE : 5253.6044921875\n",
            "R2-Score : 0.586215078830719\n"
          ]
        }
      ]
    },
    {
      "cell_type": "code",
      "source": [
        "def predict_charges(age, sex, bmi, children, smoker,region):\n",
        "  input_data = pd.DataFrame([[age, sex, bmi, children, smoker,region]],\n",
        "               columns=['age', 'sex', 'bmi', 'children', 'smoker', 'region'])\n",
        "\n",
        "  for col in ['sex', 'smoker', 'region']:\n",
        "    input_data[col] = label_encoder[col].transform(input_data[col])\n",
        "  input_data = scaler.transform(input_data)\n",
        "  input_tensor = torch.tensor(input_data, dtype=torch.float32)\n",
        "  predicted_charge = model(input_tensor).item()\n",
        "  return predicted_charge\n"
      ],
      "metadata": {
        "id": "mDJBsE_Xo_LN"
      },
      "execution_count": null,
      "outputs": []
    },
    {
      "cell_type": "code",
      "source": [
        "predicted = predict_charges(45, 'female', 27.9, 0, 'no', 'southwest')"
      ],
      "metadata": {
        "id": "rgQGgtwypC5D"
      },
      "execution_count": null,
      "outputs": []
    },
    {
      "cell_type": "code",
      "source": [
        "print(f\"Predicted insurance charge: ${predicted:.2f}\")"
      ],
      "metadata": {
        "colab": {
          "base_uri": "https://localhost:8080/"
        },
        "id": "gciV11oSpIG1",
        "outputId": "b4211860-5778-4c58-94bf-c0f5686133d2"
      },
      "execution_count": null,
      "outputs": [
        {
          "output_type": "stream",
          "name": "stdout",
          "text": [
            "Predicted insurance charge: $7492.10\n"
          ]
        }
      ]
    }
  ]
}