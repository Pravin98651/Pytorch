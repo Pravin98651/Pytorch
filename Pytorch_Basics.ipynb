{
  "nbformat": 4,
  "nbformat_minor": 0,
  "metadata": {
    "colab": {
      "provenance": [],
      "gpuType": "T4",
      "authorship_tag": "ABX9TyO1P/d+ReBVU4OaPxj620pJ",
      "include_colab_link": true
    },
    "kernelspec": {
      "name": "python3",
      "display_name": "Python 3"
    },
    "language_info": {
      "name": "python"
    },
    "accelerator": "GPU"
  },
  "cells": [
    {
      "cell_type": "markdown",
      "metadata": {
        "id": "view-in-github",
        "colab_type": "text"
      },
      "source": [
        "<a href=\"https://colab.research.google.com/github/Pravin98651/Pytorch/blob/main/Pytorch_Basics.ipynb\" target=\"_parent\"><img src=\"https://colab.research.google.com/assets/colab-badge.svg\" alt=\"Open In Colab\"/></a>"
      ]
    },
    {
      "cell_type": "code",
      "source": [
        "#Change the resources to VRAM"
      ],
      "metadata": {
        "id": "TwrCfZLDRzUJ"
      },
      "execution_count": null,
      "outputs": []
    },
    {
      "cell_type": "code",
      "source": [
        "import torch"
      ],
      "metadata": {
        "id": "7IybWVgmHozw"
      },
      "execution_count": null,
      "outputs": []
    },
    {
      "cell_type": "code",
      "source": [
        "torch.cuda.is_available()"
      ],
      "metadata": {
        "colab": {
          "base_uri": "https://localhost:8080/"
        },
        "id": "79Wvx_slJhcc",
        "outputId": "db920f29-796c-4f6e-d003-612346591b33"
      },
      "execution_count": null,
      "outputs": [
        {
          "output_type": "execute_result",
          "data": {
            "text/plain": [
              "True"
            ]
          },
          "metadata": {},
          "execution_count": 3
        }
      ]
    },
    {
      "cell_type": "markdown",
      "source": [
        "Creating Tensors"
      ],
      "metadata": {
        "id": "bNmhCLCBMiDF"
      }
    },
    {
      "cell_type": "code",
      "source": [
        "#1.scalar tensor OD\n",
        "\n",
        "scalar= torch.tensor(45)\n",
        "print(\"scalar tensor:\", scalar)\n",
        "print(\"Scalar Dimension\", scalar.ndim)\n",
        "print(\" shape of Scalar tensor:\", scalar.shape)"
      ],
      "metadata": {
        "colab": {
          "base_uri": "https://localhost:8080/"
        },
        "id": "y2w16p_kMkd3",
        "outputId": "53476d73-aea9-42cf-90f0-c2e2878e0b05"
      },
      "execution_count": null,
      "outputs": [
        {
          "output_type": "stream",
          "name": "stdout",
          "text": [
            "scalar tensor: tensor(45)\n",
            "Scalar Dimension 0\n",
            " shape of Scalar tensor: torch.Size([])\n"
          ]
        }
      ]
    },
    {
      "cell_type": "code",
      "source": [
        "# 1D tensor : Vector\n",
        "\n",
        "vector= torch.tensor([1,3,5])\n",
        "print(\"vector tensor:\", vector)\n",
        "print(\"vector Dimension\", vector.ndim)\n",
        "print(\" shape of vector tensor:\", vector.shape)"
      ],
      "metadata": {
        "colab": {
          "base_uri": "https://localhost:8080/"
        },
        "id": "ZMNn_aUNNHSi",
        "outputId": "fed52f93-b2a2-43f0-96ec-8c27a5c25718"
      },
      "execution_count": null,
      "outputs": [
        {
          "output_type": "stream",
          "name": "stdout",
          "text": [
            "vector tensor: tensor([1, 3, 5])\n",
            "vector Dimension 1\n",
            " shape of vector tensor: torch.Size([3])\n"
          ]
        }
      ]
    },
    {
      "cell_type": "code",
      "source": [
        "#2D Tensor : Matrix\n",
        "\n",
        "matrix= torch.tensor([[1,2,3],[4,5,6]])\n",
        "print(\"matrix tensor:\", matrix)\n",
        "print(\"matrix Dimension\", matrix.ndim)\n",
        "print(\" shape of matrix tensor:\", matrix.shape)"
      ],
      "metadata": {
        "colab": {
          "base_uri": "https://localhost:8080/"
        },
        "id": "2ANbdttzNePz",
        "outputId": "6709d212-3a7f-4f83-ae07-c82b2d224d4a"
      },
      "execution_count": null,
      "outputs": [
        {
          "output_type": "stream",
          "name": "stdout",
          "text": [
            "matrix tensor: tensor([[1, 2, 3],\n",
            "        [4, 5, 6]])\n",
            "matrix Dimension 2\n",
            " shape of matrix tensor: torch.Size([2, 3])\n"
          ]
        }
      ]
    },
    {
      "cell_type": "code",
      "source": [
        "#3D Tennsor\n",
        "\n",
        "tensor= torch.tensor([\n",
        "    [[1,2,3],[4,5,6]],\n",
        "     [[7,8,9],[10,11,12]]\n",
        "    ])\n",
        "print(\"tensor tensor:\", tensor)\n",
        "print(\"tensor Dimension\", tensor.ndim)\n",
        "print(\" shape of tensor tensor:\", tensor.shape)"
      ],
      "metadata": {
        "colab": {
          "base_uri": "https://localhost:8080/"
        },
        "id": "iK3bMLR7Nvfz",
        "outputId": "4662e63e-571c-4cc6-8cef-55d8562f480e"
      },
      "execution_count": null,
      "outputs": [
        {
          "output_type": "stream",
          "name": "stdout",
          "text": [
            "tensor tensor: tensor([[[ 1,  2,  3],\n",
            "         [ 4,  5,  6]],\n",
            "\n",
            "        [[ 7,  8,  9],\n",
            "         [10, 11, 12]]])\n",
            "tensor Dimension 3\n",
            " shape of tensor tensor: torch.Size([2, 2, 3])\n"
          ]
        }
      ]
    },
    {
      "cell_type": "code",
      "source": [
        "#GPU Acceleration\n",
        "\n",
        "if torch.cuda.is_available():\n",
        "  gpu_tensor=vector.to('cuda')\n",
        "  print(\"GPU is available\",gpu_tensor)\n",
        "else:\n",
        "  print(\" CUDA _GPU is not available\")"
      ],
      "metadata": {
        "colab": {
          "base_uri": "https://localhost:8080/"
        },
        "id": "aY_m6eCHPsln",
        "outputId": "af34103b-d2fb-4c26-faaa-3b9e1d266c51"
      },
      "execution_count": null,
      "outputs": [
        {
          "output_type": "stream",
          "name": "stdout",
          "text": [
            "GPU is available tensor([1, 3, 5], device='cuda:0')\n"
          ]
        }
      ]
    },
    {
      "cell_type": "code",
      "source": [
        "#Tensor Properties\n",
        "\n",
        "print(\"Data type of matrix:\", matrix.dtype)\n",
        "print(\"Device tensor is stored on:\", matrix.device)\n",
        "print(\"Device tensor is stored on:\", gpu_tensor.device)\n",
        "print(\"size\", matrix.size())\n",
        "print(\"No of elements\", matrix.numel())"
      ],
      "metadata": {
        "colab": {
          "base_uri": "https://localhost:8080/"
        },
        "id": "GcvyEn7zPzf8",
        "outputId": "700541a7-f833-40f9-aace-e9243238fd11"
      },
      "execution_count": null,
      "outputs": [
        {
          "output_type": "stream",
          "name": "stdout",
          "text": [
            "Data type of matrix: torch.int64\n",
            "Device tensor is stored on: cpu\n",
            "Device tensor is stored on: cuda:0\n",
            "size torch.Size([2, 3])\n",
            "No of elements 6\n"
          ]
        }
      ]
    },
    {
      "cell_type": "code",
      "source": [
        "!nvidia-smi"
      ],
      "metadata": {
        "colab": {
          "base_uri": "https://localhost:8080/"
        },
        "id": "NO32bcmqQg3C",
        "outputId": "ddd566c1-5a96-49d5-f5e5-9f40cc33b63c"
      },
      "execution_count": null,
      "outputs": [
        {
          "output_type": "stream",
          "name": "stdout",
          "text": [
            "Sun May 18 07:13:46 2025       \n",
            "+-----------------------------------------------------------------------------------------+\n",
            "| NVIDIA-SMI 550.54.15              Driver Version: 550.54.15      CUDA Version: 12.4     |\n",
            "|-----------------------------------------+------------------------+----------------------+\n",
            "| GPU  Name                 Persistence-M | Bus-Id          Disp.A | Volatile Uncorr. ECC |\n",
            "| Fan  Temp   Perf          Pwr:Usage/Cap |           Memory-Usage | GPU-Util  Compute M. |\n",
            "|                                         |                        |               MIG M. |\n",
            "|=========================================+========================+======================|\n",
            "|   0  Tesla T4                       Off |   00000000:00:04.0 Off |                    0 |\n",
            "| N/A   51C    P0             26W /   70W |     104MiB /  15360MiB |      0%      Default |\n",
            "|                                         |                        |                  N/A |\n",
            "+-----------------------------------------+------------------------+----------------------+\n",
            "                                                                                         \n",
            "+-----------------------------------------------------------------------------------------+\n",
            "| Processes:                                                                              |\n",
            "|  GPU   GI   CI        PID   Type   Process name                              GPU Memory |\n",
            "|        ID   ID                                                               Usage      |\n",
            "|=========================================================================================|\n",
            "+-----------------------------------------------------------------------------------------+\n"
          ]
        }
      ]
    }
  ]
}