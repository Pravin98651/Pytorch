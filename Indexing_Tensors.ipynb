{
  "nbformat": 4,
  "nbformat_minor": 0,
  "metadata": {
    "colab": {
      "provenance": [],
      "gpuType": "T4"
    },
    "kernelspec": {
      "name": "python3",
      "display_name": "Python 3"
    },
    "language_info": {
      "name": "python"
    },
    "accelerator": "GPU"
  },
  "cells": [
    {
      "cell_type": "code",
      "execution_count": null,
      "metadata": {
        "id": "Y0XmmNu7VbRp"
      },
      "outputs": [],
      "source": [
        "#Accessing the elements in a tensor\n",
        "\n",
        "''' Tensor [row, column ]'''\n",
        "\n",
        "import torch"
      ]
    },
    {
      "cell_type": "code",
      "source": [
        "tensor=torch.tensor([[10,20,30],[40,50,60],[70,80,90]])\n",
        "print(tensor.ndim)\n",
        "print(tensor.shape)"
      ],
      "metadata": {
        "colab": {
          "base_uri": "https://localhost:8080/"
        },
        "id": "1EQGndxqV-ls",
        "outputId": "b21ff20c-40f1-4ff2-c5b8-1f3571cbd780"
      },
      "execution_count": null,
      "outputs": [
        {
          "output_type": "stream",
          "name": "stdout",
          "text": [
            "2\n",
            "torch.Size([3, 3])\n"
          ]
        }
      ]
    },
    {
      "cell_type": "code",
      "source": [
        "print(\"Element at (0,1):\", tensor[0,1])"
      ],
      "metadata": {
        "colab": {
          "base_uri": "https://localhost:8080/"
        },
        "id": "wlZrDVJcWTwu",
        "outputId": "df1a0555-e040-42c5-b2f1-bfbbfa2bd3ba"
      },
      "execution_count": null,
      "outputs": [
        {
          "output_type": "stream",
          "name": "stdout",
          "text": [
            "Element at (0,1): tensor(20)\n"
          ]
        }
      ]
    },
    {
      "cell_type": "code",
      "source": [
        "#First Row\n",
        "print(\"Tensor present at 0\", tensor[0])\n"
      ],
      "metadata": {
        "colab": {
          "base_uri": "https://localhost:8080/"
        },
        "id": "AGphzktDWeHG",
        "outputId": "b86a5b25-2314-4da7-a96e-143fa9822828"
      },
      "execution_count": null,
      "outputs": [
        {
          "output_type": "stream",
          "name": "stdout",
          "text": [
            "Tensor present at 0 tensor([10, 20, 30])\n"
          ]
        }
      ]
    },
    {
      "cell_type": "code",
      "source": [
        "#Access first column\n",
        "print(\"First Column\", tensor[:,0])"
      ],
      "metadata": {
        "colab": {
          "base_uri": "https://localhost:8080/"
        },
        "id": "hCAOankmWliI",
        "outputId": "9855fd3f-a6cf-4b84-c448-49b86773b8cb"
      },
      "execution_count": null,
      "outputs": [
        {
          "output_type": "stream",
          "name": "stdout",
          "text": [
            "First Column tensor([10, 40, 70])\n"
          ]
        }
      ]
    },
    {
      "cell_type": "code",
      "source": [],
      "metadata": {
        "id": "zkkbQM0MWzBa"
      },
      "execution_count": null,
      "outputs": []
    },
    {
      "cell_type": "markdown",
      "source": [
        "Slicing\n"
      ],
      "metadata": {
        "id": "t84kIY-uW9Bz"
      }
    },
    {
      "cell_type": "code",
      "source": [
        "print(tensor)"
      ],
      "metadata": {
        "colab": {
          "base_uri": "https://localhost:8080/"
        },
        "id": "3TD84NB9XtAU",
        "outputId": "19cc7c8b-34a4-4cf2-bfce-9d9c71a827df"
      },
      "execution_count": null,
      "outputs": [
        {
          "output_type": "stream",
          "name": "stdout",
          "text": [
            "tensor([[10, 20, 30],\n",
            "        [40, 50, 60],\n",
            "        [70, 80, 90]])\n"
          ]
        }
      ]
    },
    {
      "cell_type": "code",
      "source": [
        "print(\"First two rows: \", tensor[:2])"
      ],
      "metadata": {
        "colab": {
          "base_uri": "https://localhost:8080/"
        },
        "id": "YeM7X9HvXASE",
        "outputId": "2bc15cd6-685c-448e-b06c-93e8450fb43f"
      },
      "execution_count": null,
      "outputs": [
        {
          "output_type": "stream",
          "name": "stdout",
          "text": [
            "First two rows:  tensor([[10, 20, 30],\n",
            "        [40, 50, 60]])\n"
          ]
        }
      ]
    },
    {
      "cell_type": "code",
      "source": [
        "print(\"First two rows: \", tensor[:,:2])"
      ],
      "metadata": {
        "colab": {
          "base_uri": "https://localhost:8080/"
        },
        "id": "aCuETs3-XGn5",
        "outputId": "f6e27747-177b-400b-e22e-8402ad038f3f"
      },
      "execution_count": null,
      "outputs": [
        {
          "output_type": "stream",
          "name": "stdout",
          "text": [
            "First two rows:  tensor([[10, 20],\n",
            "        [40, 50],\n",
            "        [70, 80]])\n"
          ]
        }
      ]
    },
    {
      "cell_type": "code",
      "source": [
        "#Middle elements (row1, column 1 and 2 only)\n",
        "print(tensor[1,1:3])\n"
      ],
      "metadata": {
        "colab": {
          "base_uri": "https://localhost:8080/"
        },
        "id": "VDKFrgJNXWbT",
        "outputId": "e67cea62-c535-477a-8d5a-4096aead4064"
      },
      "execution_count": null,
      "outputs": [
        {
          "output_type": "stream",
          "name": "stdout",
          "text": [
            "tensor([50, 60])\n"
          ]
        }
      ]
    },
    {
      "cell_type": "code",
      "source": [
        "print(tensor[:2:3])"
      ],
      "metadata": {
        "colab": {
          "base_uri": "https://localhost:8080/"
        },
        "id": "ZwGpaicQXph3",
        "outputId": "74d65082-b15b-4a07-8499-9c10694b1117"
      },
      "execution_count": null,
      "outputs": [
        {
          "output_type": "stream",
          "name": "stdout",
          "text": [
            "tensor([[10, 20, 30]])\n"
          ]
        }
      ]
    },
    {
      "cell_type": "code",
      "source": [
        "second_elements = tensor[:, 1]\n",
        "print(second_elements)"
      ],
      "metadata": {
        "colab": {
          "base_uri": "https://localhost:8080/"
        },
        "id": "3nY4o-rVX-nV",
        "outputId": "92cecd51-81c2-43a6-9c4e-9ffa66faf668"
      },
      "execution_count": null,
      "outputs": [
        {
          "output_type": "stream",
          "name": "stdout",
          "text": [
            "tensor([20, 50, 80])\n"
          ]
        }
      ]
    },
    {
      "cell_type": "code",
      "source": [
        "#Fancy Indexing : Trying to Access 20 and 90\n",
        "\n",
        "tensor[[0,2],[1,2]]"
      ],
      "metadata": {
        "colab": {
          "base_uri": "https://localhost:8080/"
        },
        "id": "ZwiHj2tDavSW",
        "outputId": "d76b23ff-3727-49f0-e29d-f428488b680d"
      },
      "execution_count": null,
      "outputs": [
        {
          "output_type": "execute_result",
          "data": {
            "text/plain": [
              "tensor([20, 90])"
            ]
          },
          "metadata": {},
          "execution_count": 24
        }
      ]
    },
    {
      "cell_type": "code",
      "source": [
        " #Boolean Indexing\n",
        "\n",
        " mask= tensor>50\n",
        " print(mask)\n",
        " print(tensor[mask])"
      ],
      "metadata": {
        "colab": {
          "base_uri": "https://localhost:8080/"
        },
        "id": "VWKOu-RYbqMy",
        "outputId": "a8b44b7e-a2a0-4a5f-ce5e-461f074c2559"
      },
      "execution_count": null,
      "outputs": [
        {
          "output_type": "stream",
          "name": "stdout",
          "text": [
            "tensor([[False, False, False],\n",
            "        [False, False,  True],\n",
            "        [ True,  True,  True]])\n",
            "tensor([60, 70, 80, 90])\n"
          ]
        }
      ]
    },
    {
      "cell_type": "code",
      "source": [
        "#changing tensor values via indexing\n",
        "print(tensor)\n",
        "tensor[0,1]=25\n",
        "print(tensor)"
      ],
      "metadata": {
        "colab": {
          "base_uri": "https://localhost:8080/"
        },
        "id": "7au_nF2Wb4u6",
        "outputId": "0f11b4fd-0eda-4bba-9ad3-b397a3c32295"
      },
      "execution_count": null,
      "outputs": [
        {
          "output_type": "stream",
          "name": "stdout",
          "text": [
            "tensor([[10, 25, 30],\n",
            "        [40, 50, 60],\n",
            "        [70, 80, 90]])\n",
            "tensor([[10, 25, 30],\n",
            "        [40, 50, 60],\n",
            "        [70, 80, 90]])\n"
          ]
        }
      ]
    },
    {
      "cell_type": "code",
      "source": [
        "tensor[:,0]= torch.tensor([100,200,300])\n",
        "print(tensor)"
      ],
      "metadata": {
        "colab": {
          "base_uri": "https://localhost:8080/"
        },
        "id": "Ew4gXP-_cj-l",
        "outputId": "e321aa5e-411d-4419-f906-d339d54e2059"
      },
      "execution_count": null,
      "outputs": [
        {
          "output_type": "stream",
          "name": "stdout",
          "text": [
            "tensor([[100,  25,  30],\n",
            "        [200,  50,  60],\n",
            "        [300,  80,  90]])\n"
          ]
        }
      ]
    },
    {
      "cell_type": "code",
      "source": [
        "indices= torch.tensor([0,2])\n",
        "selected_rows=torch.index_select(tensor,dim=0,index= indices)\n",
        "print(selected_rows)\n",
        "\n",
        "\n",
        "'''torch.index_select() lets you select specific rows (or columns) by index.\n",
        "\n",
        "dim=0 → rows, dim=1 → columns\n",
        "\n",
        "index=indices is a tensor of indices you want to pick.'''\n",
        "#dim 0 => Rows\n",
        "#dim 1 => Column"
      ],
      "metadata": {
        "colab": {
          "base_uri": "https://localhost:8080/",
          "height": 105
        },
        "id": "F-jIKfvZc3fL",
        "outputId": "22571707-bcd5-46c5-cc8b-20026a6f698c"
      },
      "execution_count": null,
      "outputs": [
        {
          "output_type": "stream",
          "name": "stdout",
          "text": [
            "tensor([[100,  25,  30],\n",
            "        [300,  80,  90]])\n"
          ]
        },
        {
          "output_type": "execute_result",
          "data": {
            "text/plain": [
              "'torch.index_select() lets you select specific rows (or columns) by index.\\n\\ndim=0 → rows, dim=1 → columns\\n\\nindex=indices is a tensor of indices you want to pick.'"
            ],
            "application/vnd.google.colaboratory.intrinsic+json": {
              "type": "string"
            }
          },
          "metadata": {},
          "execution_count": 38
        }
      ]
    },
    {
      "cell_type": "code",
      "source": [
        "#using tensor with steps\n",
        "\n",
        "print(tensor[:,::2])"
      ],
      "metadata": {
        "colab": {
          "base_uri": "https://localhost:8080/"
        },
        "id": "Mb69P7F5dHcK",
        "outputId": "8b39e5ae-1b2d-4a8d-931e-6f8483340782"
      },
      "execution_count": null,
      "outputs": [
        {
          "output_type": "stream",
          "name": "stdout",
          "text": [
            "tensor([[100,  30],\n",
            "        [200,  60],\n",
            "        [300,  90]])\n"
          ]
        }
      ]
    },
    {
      "cell_type": "code",
      "source": [
        "torch.flip(tensor, dims=(0,))\n"
      ],
      "metadata": {
        "colab": {
          "base_uri": "https://localhost:8080/"
        },
        "id": "QnZRrIRYebhf",
        "outputId": "3bbd2f11-86fd-4164-8a9c-896da5b7c718"
      },
      "execution_count": null,
      "outputs": [
        {
          "output_type": "execute_result",
          "data": {
            "text/plain": [
              "tensor([[300,  80,  90],\n",
              "        [200,  50,  60],\n",
              "        [100,  25,  30]])"
            ]
          },
          "metadata": {},
          "execution_count": 45
        }
      ]
    },
    {
      "cell_type": "code",
      "source": [],
      "metadata": {
        "id": "HFz06BIQe6mg"
      },
      "execution_count": null,
      "outputs": []
    }
  ]
}